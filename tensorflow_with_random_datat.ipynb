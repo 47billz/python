{
 "cells": [
  {
   "cell_type": "code",
   "execution_count": 4,
   "metadata": {},
   "outputs": [],
   "source": [
    "import tensorflow as tf"
   ]
  },
  {
   "cell_type": "code",
   "execution_count": 2,
   "metadata": {},
   "outputs": [
    {
     "data": {
      "text/plain": [
       "7.5"
      ]
     },
     "execution_count": 2,
     "metadata": {},
     "output_type": "execute_result"
    }
   ],
   "source": [
    "#y = m*x + b Linear Equation\n",
    "m = tf.constant(3.0, name='m')\n",
    "b =tf.constant(1.5,name='b')\n",
    "x = tf.placeholder(dtype='float32',name='x')\n",
    "y = m*x+b\n",
    "sess = tf.Session()\n",
    "y.eval({x:2},session=sess)"
   ]
  },
  {
   "cell_type": "code",
   "execution_count": 5,
   "metadata": {},
   "outputs": [
    {
     "data": {
      "text/plain": [
       "<tf.Tensor 'add_1:0' shape=(2, 2) dtype=float32>"
      ]
     },
     "execution_count": 5,
     "metadata": {},
     "output_type": "execute_result"
    }
   ],
   "source": [
    "#Higher rank add\n",
    "M = tf.constant([[1,2],[3,4]], dtype='float32')\n",
    "v = tf.constant([5,6], dtype='float32')\n",
    "M+v"
   ]
  },
  {
   "cell_type": "code",
   "execution_count": 7,
   "metadata": {},
   "outputs": [
    {
     "data": {
      "text/plain": [
       "array([[ 6.,  8.],\n",
       "       [ 8., 10.]], dtype=float32)"
      ]
     },
     "execution_count": 7,
     "metadata": {},
     "output_type": "execute_result"
    }
   ],
   "source": [
    "#Run with a session\n",
    "sess = tf.Session()\n",
    "sess.run(M+v)"
   ]
  },
  {
   "cell_type": "code",
   "execution_count": 8,
   "metadata": {},
   "outputs": [
    {
     "data": {
      "text/plain": [
       "array([[ 5., 12.],\n",
       "       [15., 24.]], dtype=float32)"
      ]
     },
     "execution_count": 8,
     "metadata": {},
     "output_type": "execute_result"
    }
   ],
   "source": [
    "sess.run(M*v)"
   ]
  },
  {
   "cell_type": "code",
   "execution_count": 10,
   "metadata": {},
   "outputs": [
    {
     "data": {
      "text/plain": [
       "array([[17.],\n",
       "       [39.]], dtype=float32)"
      ]
     },
     "execution_count": 10,
     "metadata": {},
     "output_type": "execute_result"
    }
   ],
   "source": [
    "sess\n",
    "sess.run(tf.matmul(M,tf.reshape(v,[2,1]))) #reshape to match dimentions"
   ]
  },
  {
   "cell_type": "code",
   "execution_count": 11,
   "metadata": {},
   "outputs": [],
   "source": [
    "# Pseudo ML Lifecycle\n",
    "import pandas as pd\n",
    "from pandas import DataFrame as DF\n",
    "import numpy as np"
   ]
  },
  {
   "cell_type": "code",
   "execution_count": 16,
   "metadata": {},
   "outputs": [],
   "source": [
    "# Data collection (creation)\n",
    "np.random.seed(555)\n",
    "\n",
    "X1 = np.random.normal(100, 15, 200).astype(int)\n",
    "X2 = np.random.normal(10, 4.5, 200)\n",
    "X3 = np.random.normal(32, 4, 200).astype(int)\n",
    "\n",
    "dob = np.datetime64('2017-10-31') - 365*X3\n",
    "b = 5 #Intercept\n",
    "\n",
    "err = np.random.normal(0, 15, 200)\n",
    "Y = np.array([0.3*x1 + 1.5*x2 + 0.83*x3 + b + 3 for x1,x2,x3,e in zip(X1,X2,X3,err)])"
   ]
  },
  {
   "cell_type": "code",
   "execution_count": 30,
   "metadata": {},
   "outputs": [
    {
     "name": "stdout",
     "output_type": "stream",
     "text": [
      "<class 'pandas.core.frame.DataFrame'>\n",
      "RangeIndex: 200 entries, 0 to 199\n",
      "Data columns (total 4 columns):\n",
      "iq                  200 non-null int64\n",
      "years_experience    200 non-null float64\n",
      "dob                 200 non-null datetime64[ns]\n",
      "income              200 non-null float64\n",
      "dtypes: datetime64[ns](1), float64(2), int64(1)\n",
      "memory usage: 6.3 KB\n"
     ]
    }
   ],
   "source": [
    "#CLEANING\n",
    "cols = ['iq', 'years_experience','dob']\n",
    "df = DF(list(zip(X1,X2,dob)), columns=cols)\n",
    "df['income'] = Y\n",
    "df.info()"
   ]
  },
  {
   "cell_type": "code",
   "execution_count": null,
   "metadata": {},
   "outputs": [],
   "source": [
    "mkdir tensorfl"
   ]
  },
  {
   "cell_type": "code",
   "execution_count": 31,
   "metadata": {},
   "outputs": [
    {
     "data": {
      "text/html": [
       "<div>\n",
       "<style scoped>\n",
       "    .dataframe tbody tr th:only-of-type {\n",
       "        vertical-align: middle;\n",
       "    }\n",
       "\n",
       "    .dataframe tbody tr th {\n",
       "        vertical-align: top;\n",
       "    }\n",
       "\n",
       "    .dataframe thead th {\n",
       "        text-align: right;\n",
       "    }\n",
       "</style>\n",
       "<table border=\"1\" class=\"dataframe\">\n",
       "  <thead>\n",
       "    <tr style=\"text-align: right;\">\n",
       "      <th></th>\n",
       "      <th>iq</th>\n",
       "      <th>years_experience</th>\n",
       "      <th>income</th>\n",
       "    </tr>\n",
       "  </thead>\n",
       "  <tbody>\n",
       "    <tr>\n",
       "      <th>count</th>\n",
       "      <td>200.000000</td>\n",
       "      <td>200.000000</td>\n",
       "      <td>200.000000</td>\n",
       "    </tr>\n",
       "    <tr>\n",
       "      <th>mean</th>\n",
       "      <td>98.895000</td>\n",
       "      <td>9.708405</td>\n",
       "      <td>78.475708</td>\n",
       "    </tr>\n",
       "    <tr>\n",
       "      <th>std</th>\n",
       "      <td>14.991253</td>\n",
       "      <td>4.654536</td>\n",
       "      <td>8.788167</td>\n",
       "    </tr>\n",
       "    <tr>\n",
       "      <th>min</th>\n",
       "      <td>62.000000</td>\n",
       "      <td>-5.789565</td>\n",
       "      <td>53.445951</td>\n",
       "    </tr>\n",
       "    <tr>\n",
       "      <th>25%</th>\n",
       "      <td>88.500000</td>\n",
       "      <td>6.603565</td>\n",
       "      <td>72.787092</td>\n",
       "    </tr>\n",
       "    <tr>\n",
       "      <th>50%</th>\n",
       "      <td>99.000000</td>\n",
       "      <td>10.021919</td>\n",
       "      <td>78.691652</td>\n",
       "    </tr>\n",
       "    <tr>\n",
       "      <th>75%</th>\n",
       "      <td>108.250000</td>\n",
       "      <td>12.927809</td>\n",
       "      <td>83.623287</td>\n",
       "    </tr>\n",
       "    <tr>\n",
       "      <th>max</th>\n",
       "      <td>134.000000</td>\n",
       "      <td>21.889216</td>\n",
       "      <td>102.105315</td>\n",
       "    </tr>\n",
       "  </tbody>\n",
       "</table>\n",
       "</div>"
      ],
      "text/plain": [
       "               iq  years_experience      income\n",
       "count  200.000000        200.000000  200.000000\n",
       "mean    98.895000          9.708405   78.475708\n",
       "std     14.991253          4.654536    8.788167\n",
       "min     62.000000         -5.789565   53.445951\n",
       "25%     88.500000          6.603565   72.787092\n",
       "50%     99.000000         10.021919   78.691652\n",
       "75%    108.250000         12.927809   83.623287\n",
       "max    134.000000         21.889216  102.105315"
      ]
     },
     "execution_count": 31,
     "metadata": {},
     "output_type": "execute_result"
    }
   ],
   "source": [
    "df.describe()"
   ]
  },
  {
   "cell_type": "code",
   "execution_count": 32,
   "metadata": {},
   "outputs": [
    {
     "data": {
      "text/html": [
       "<div>\n",
       "<style scoped>\n",
       "    .dataframe tbody tr th:only-of-type {\n",
       "        vertical-align: middle;\n",
       "    }\n",
       "\n",
       "    .dataframe tbody tr th {\n",
       "        vertical-align: top;\n",
       "    }\n",
       "\n",
       "    .dataframe thead th {\n",
       "        text-align: right;\n",
       "    }\n",
       "</style>\n",
       "<table border=\"1\" class=\"dataframe\">\n",
       "  <thead>\n",
       "    <tr style=\"text-align: right;\">\n",
       "      <th></th>\n",
       "      <th>iq</th>\n",
       "      <th>years_experience</th>\n",
       "      <th>income</th>\n",
       "    </tr>\n",
       "  </thead>\n",
       "  <tbody>\n",
       "    <tr>\n",
       "      <th>count</th>\n",
       "      <td>196.000000</td>\n",
       "      <td>196.000000</td>\n",
       "      <td>196.000000</td>\n",
       "    </tr>\n",
       "    <tr>\n",
       "      <th>mean</th>\n",
       "      <td>98.959184</td>\n",
       "      <td>9.963718</td>\n",
       "      <td>78.884199</td>\n",
       "    </tr>\n",
       "    <tr>\n",
       "      <th>std</th>\n",
       "      <td>14.769628</td>\n",
       "      <td>4.332578</td>\n",
       "      <td>8.355472</td>\n",
       "    </tr>\n",
       "    <tr>\n",
       "      <th>min</th>\n",
       "      <td>62.000000</td>\n",
       "      <td>0.084480</td>\n",
       "      <td>57.975309</td>\n",
       "    </tr>\n",
       "    <tr>\n",
       "      <th>25%</th>\n",
       "      <td>88.500000</td>\n",
       "      <td>6.940314</td>\n",
       "      <td>73.111657</td>\n",
       "    </tr>\n",
       "    <tr>\n",
       "      <th>50%</th>\n",
       "      <td>99.000000</td>\n",
       "      <td>10.192384</td>\n",
       "      <td>78.956858</td>\n",
       "    </tr>\n",
       "    <tr>\n",
       "      <th>75%</th>\n",
       "      <td>108.250000</td>\n",
       "      <td>12.967590</td>\n",
       "      <td>83.655408</td>\n",
       "    </tr>\n",
       "    <tr>\n",
       "      <th>max</th>\n",
       "      <td>134.000000</td>\n",
       "      <td>21.889216</td>\n",
       "      <td>102.105315</td>\n",
       "    </tr>\n",
       "  </tbody>\n",
       "</table>\n",
       "</div>"
      ],
      "text/plain": [
       "               iq  years_experience      income\n",
       "count  196.000000        196.000000  196.000000\n",
       "mean    98.959184          9.963718   78.884199\n",
       "std     14.769628          4.332578    8.355472\n",
       "min     62.000000          0.084480   57.975309\n",
       "25%     88.500000          6.940314   73.111657\n",
       "50%     99.000000         10.192384   78.956858\n",
       "75%    108.250000         12.967590   83.655408\n",
       "max    134.000000         21.889216  102.105315"
      ]
     },
     "execution_count": 32,
     "metadata": {},
     "output_type": "execute_result"
    }
   ],
   "source": [
    "df = df[df.years_experience>=0]\n",
    "df.describe()"
   ]
  },
  {
   "cell_type": "code",
   "execution_count": 33,
   "metadata": {},
   "outputs": [
    {
     "data": {
      "text/html": [
       "<div>\n",
       "<style scoped>\n",
       "    .dataframe tbody tr th:only-of-type {\n",
       "        vertical-align: middle;\n",
       "    }\n",
       "\n",
       "    .dataframe tbody tr th {\n",
       "        vertical-align: top;\n",
       "    }\n",
       "\n",
       "    .dataframe thead th {\n",
       "        text-align: right;\n",
       "    }\n",
       "</style>\n",
       "<table border=\"1\" class=\"dataframe\">\n",
       "  <thead>\n",
       "    <tr style=\"text-align: right;\">\n",
       "      <th></th>\n",
       "      <th>dob</th>\n",
       "    </tr>\n",
       "  </thead>\n",
       "  <tbody>\n",
       "    <tr>\n",
       "      <th>count</th>\n",
       "      <td>196</td>\n",
       "    </tr>\n",
       "    <tr>\n",
       "      <th>unique</th>\n",
       "      <td>22</td>\n",
       "    </tr>\n",
       "    <tr>\n",
       "      <th>top</th>\n",
       "      <td>1986-11-08 00:00:00</td>\n",
       "    </tr>\n",
       "    <tr>\n",
       "      <th>freq</th>\n",
       "      <td>20</td>\n",
       "    </tr>\n",
       "    <tr>\n",
       "      <th>first</th>\n",
       "      <td>1975-11-11 00:00:00</td>\n",
       "    </tr>\n",
       "    <tr>\n",
       "      <th>last</th>\n",
       "      <td>1996-11-05 00:00:00</td>\n",
       "    </tr>\n",
       "  </tbody>\n",
       "</table>\n",
       "</div>"
      ],
      "text/plain": [
       "                        dob\n",
       "count                   196\n",
       "unique                   22\n",
       "top     1986-11-08 00:00:00\n",
       "freq                     20\n",
       "first   1975-11-11 00:00:00\n",
       "last    1996-11-05 00:00:00"
      ]
     },
     "execution_count": 33,
     "metadata": {},
     "output_type": "execute_result"
    }
   ],
   "source": [
    "#Eploritory Data Analysis\n",
    "df.describe( include=['datetime64'])"
   ]
  },
  {
   "cell_type": "code",
   "execution_count": 37,
   "metadata": {},
   "outputs": [
    {
     "data": {
      "text/plain": [
       "array([[<matplotlib.axes._subplots.AxesSubplot object at 0x7f4156d3e470>,\n",
       "        <matplotlib.axes._subplots.AxesSubplot object at 0x7f4156cd7c88>,\n",
       "        <matplotlib.axes._subplots.AxesSubplot object at 0x7f4156d09358>,\n",
       "        <matplotlib.axes._subplots.AxesSubplot object at 0x7f4156cb09e8>],\n",
       "       [<matplotlib.axes._subplots.AxesSubplot object at 0x7f4156c610b8>,\n",
       "        <matplotlib.axes._subplots.AxesSubplot object at 0x7f4156c610f0>,\n",
       "        <matplotlib.axes._subplots.AxesSubplot object at 0x7f4156c33dd8>,\n",
       "        <matplotlib.axes._subplots.AxesSubplot object at 0x7f4156be24a8>],\n",
       "       [<matplotlib.axes._subplots.AxesSubplot object at 0x7f4156c0cb38>,\n",
       "        <matplotlib.axes._subplots.AxesSubplot object at 0x7f4156bbf208>,\n",
       "        <matplotlib.axes._subplots.AxesSubplot object at 0x7f4156b65898>,\n",
       "        <matplotlib.axes._subplots.AxesSubplot object at 0x7f4156b8cf28>],\n",
       "       [<matplotlib.axes._subplots.AxesSubplot object at 0x7f4156b3f5f8>,\n",
       "        <matplotlib.axes._subplots.AxesSubplot object at 0x7f4156ae6c88>,\n",
       "        <matplotlib.axes._subplots.AxesSubplot object at 0x7f4156a98358>,\n",
       "        <matplotlib.axes._subplots.AxesSubplot object at 0x7f4156ac29e8>]],\n",
       "      dtype=object)"
      ]
     },
     "execution_count": 37,
     "metadata": {},
     "output_type": "execute_result"
    },
    {
     "data": {
      "image/png": "[encoded data removed]",
      "text/plain": [
       "<Figure size 1152x648 with 16 Axes>"
      ]
     },
     "metadata": {},
     "output_type": "display_data"
    }
   ],
   "source": [
    "#visualize data\n",
    "import matplotlib.pyplot as plt\n",
    "%matplotlib inline\n",
    "pd.plotting.scatter_matrix(df, figsize=(16,9))"
   ]
  },
  {
   "cell_type": "code",
   "execution_count": 38,
   "metadata": {},
   "outputs": [
    {
     "data": {
      "text/plain": [
       "<matplotlib.axes._subplots.AxesSubplot at 0x7f41568c3518>"
      ]
     },
     "execution_count": 38,
     "metadata": {},
     "output_type": "execute_result"
    },
    {
     "data": {
      "image/png": "[encoded data removed]",
      "text/plain": [
       "<Figure size 864x648 with 2 Axes>"
      ]
     },
     "metadata": {},
     "output_type": "display_data"
    }
   ],
   "source": [
    "import seaborn as sns\n",
    "plt.figure(figsize=(12,9))\n",
    "sns.heatmap(df.corr())"
   ]
  },
  {
   "cell_type": "code",
   "execution_count": 36,
   "metadata": {},
   "outputs": [
    {
     "data": {
      "text/html": [
       "<div>\n",
       "<style scoped>\n",
       "    .dataframe tbody tr th:only-of-type {\n",
       "        vertical-align: middle;\n",
       "    }\n",
       "\n",
       "    .dataframe tbody tr th {\n",
       "        vertical-align: top;\n",
       "    }\n",
       "\n",
       "    .dataframe thead th {\n",
       "        text-align: right;\n",
       "    }\n",
       "</style>\n",
       "<table border=\"1\" class=\"dataframe\">\n",
       "  <thead>\n",
       "    <tr style=\"text-align: right;\">\n",
       "      <th></th>\n",
       "      <th>iq</th>\n",
       "      <th>years_experience</th>\n",
       "      <th>income</th>\n",
       "      <th>age</th>\n",
       "    </tr>\n",
       "  </thead>\n",
       "  <tbody>\n",
       "    <tr>\n",
       "      <th>0</th>\n",
       "      <td>102</td>\n",
       "      <td>3.134666</td>\n",
       "      <td>62.391999</td>\n",
       "      <td>23.0</td>\n",
       "    </tr>\n",
       "    <tr>\n",
       "      <th>1</th>\n",
       "      <td>105</td>\n",
       "      <td>15.245371</td>\n",
       "      <td>83.118057</td>\n",
       "      <td>25.0</td>\n",
       "    </tr>\n",
       "    <tr>\n",
       "      <th>2</th>\n",
       "      <td>83</td>\n",
       "      <td>2.391084</td>\n",
       "      <td>60.556625</td>\n",
       "      <td>29.0</td>\n",
       "    </tr>\n",
       "    <tr>\n",
       "      <th>3</th>\n",
       "      <td>103</td>\n",
       "      <td>9.606721</td>\n",
       "      <td>80.700081</td>\n",
       "      <td>33.0</td>\n",
       "    </tr>\n",
       "    <tr>\n",
       "      <th>4</th>\n",
       "      <td>97</td>\n",
       "      <td>11.134619</td>\n",
       "      <td>83.681929</td>\n",
       "      <td>36.0</td>\n",
       "    </tr>\n",
       "  </tbody>\n",
       "</table>\n",
       "</div>"
      ],
      "text/plain": [
       "    iq  years_experience     income   age\n",
       "0  102          3.134666  62.391999  23.0\n",
       "1  105         15.245371  83.118057  25.0\n",
       "2   83          2.391084  60.556625  29.0\n",
       "3  103          9.606721  80.700081  33.0\n",
       "4   97         11.134619  83.681929  36.0"
      ]
     },
     "execution_count": 36,
     "metadata": {},
     "output_type": "execute_result"
    }
   ],
   "source": [
    "#Feature engineering\n",
    "from datetime import datetime as dt\n",
    "df['age'] = df.dob.apply(lambda x: (dt.strptime('2017-10-31','%Y-%m-%d')- x).days/365)\n",
    "df.drop('dob', axis=1,inplace=True)\n",
    "df.head()"
   ]
  },
  {
   "cell_type": "code",
   "execution_count": 79,
   "metadata": {},
   "outputs": [],
   "source": [
    "#Split dataset \n",
    "X = df.iloc[:,[0,1,3]] # all rows, select columns 0,1,3\n",
    "Y = df.income\n",
    "tr_idx = X.sample(frac=0.67).index #take 67% of x indexes\n",
    "Xtr = X[X.index.isin(tr_idx)].values #all X values of the 67% of indexes\n",
    "Xts = X[~X.index.isin(tr_idx)].values #all X's not in the 67%\n",
    "\n",
    "Ytr = Y[Y.index.isin(tr_idx)].values\n",
    "Yts = Y[~Y.index.isin(tr_idx)].values"
   ]
  },
  {
   "cell_type": "code",
   "execution_count": 48,
   "metadata": {},
   "outputs": [],
   "source": [
    "#Create Model\n"
   ]
  },
  {
   "cell_type": "code",
   "execution_count": 80,
   "metadata": {},
   "outputs": [],
   "source": [
    "tf.reset_default_graph()\n",
    "sess = tf.Session()\n",
    "\n",
    "#create params\n",
    "w = tf.get_variable(name='w',initializer=[[0.1],[0.1],[0.1]])\n",
    "b = tf.get_variable(name='b',initializer=0.) #do not forget the period for float indicatation\n",
    "\n",
    "#Create input placeholders\n",
    "x = tf.placeholder('float', name='x')\n",
    "y = tf.placeholder('float',name='y_true')\n",
    "\n",
    "#Create linear model\n",
    "yhat = tf.reshape(tf.matmul(x,w)+b, [-1,], name='yhat')"
   ]
  },
  {
   "cell_type": "code",
   "execution_count": 81,
   "metadata": {},
   "outputs": [],
   "source": [
    "#Create loss function\n",
    "mse = tf.reduce_mean(tf.square(y-yhat), name='nse')\n",
    "rmse = tf.sqrt(mse,name='rmse')\n",
    "\n",
    "#Test score \n",
    "test_nrmse = tf.divide(rmse, tf.abs(tf.reduce_mean(y), name='nrsme'))"
   ]
  },
  {
   "cell_type": "code",
   "execution_count": 82,
   "metadata": {},
   "outputs": [],
   "source": [
    "#init vars\n",
    "init = tf.variables_initializer([w,b])\n",
    "sess.run(init)"
   ]
  },
  {
   "cell_type": "code",
   "execution_count": 154,
   "metadata": {},
   "outputs": [
    {
     "name": "stdout",
     "output_type": "stream",
     "text": [
      "Test NRMSE 0.07244369387626648\n",
      "Test NRMSE 0.06811776757240295\n",
      "Test NRMSE 0.07237236946821213\n",
      "Test NRMSE 0.06819261610507965\n",
      "Test NRMSE 0.07232101261615753\n",
      "Test NRMSE 0.06824317574501038\n",
      "Test NRMSE 0.07228431850671768\n",
      "Test NRMSE 0.06827735900878906\n",
      "Test NRMSE 0.07225821912288666\n",
      "Test NRMSE 0.06830127537250519\n",
      "Test NRMSE 0.07223943620920181\n",
      "Test NRMSE 0.06831812113523483\n",
      "Test NRMSE 0.07222558557987213\n",
      "Test NRMSE 0.06832990050315857\n",
      "Test NRMSE 0.0722159668803215\n"
     ]
    }
   ],
   "source": [
    "#Run optimization again with smaller learning rate\n",
    "opt = tf.train.GradientDescentOptimizer(learning_rate=0.001)\n",
    "train = opt.minimize(rmse)\n",
    "\n",
    "#for i in range(1600): \n",
    "#    if(i%50==0)&(i>0): #for every 50 iterations -> \n",
    "#        nrmse = sess.run(test_nrmse, {x:Xts,y:Yts}) #calc normalized root mean square err on test\n",
    "#        print('Test NRMSE {}'.format(nrmse))\n",
    "#    else:\n",
    "#        sess.run(train,{x:Xtr,y:Ytr}) #perform training\n",
    "        \n",
    "        \n",
    "        \n",
    "for i in range(800): \n",
    "    if(i%50==0)&(i>0): #for every 50 iterations -> \n",
    "        smry, nrmse = sess.run([summaries, test_nrmse], {x:Xts,y:Yts}) #calc normalized root mean square err on test\n",
    "        print('Test NRMSE {}'.format(nrmse))\n",
    "    else:\n",
    "        smry, _ = sess.run([summaries, train],{x:Xtr,y:Ytr}) #perform training\n",
    "        writer.add_summary(smry,i)"
   ]
  },
  {
   "cell_type": "code",
   "execution_count": 71,
   "metadata": {},
   "outputs": [
    {
     "data": {
      "text/plain": [
       "[array([[0.38770175],\n",
       "        [1.5429953 ],\n",
       "        [0.9617656 ]], dtype=float32), 0.065085694]"
      ]
     },
     "execution_count": 71,
     "metadata": {},
     "output_type": "execute_result"
    }
   ],
   "source": [
    "#0.4*x1 + 1.5*x2 + 0.83*x3 + 5\n",
    "sess.run([w,b])"
   ]
  },
  {
   "cell_type": "code",
   "execution_count": 72,
   "metadata": {},
   "outputs": [],
   "source": [
    "tf.reset_default_graph()"
   ]
  },
  {
   "cell_type": "code",
   "execution_count": 73,
   "metadata": {},
   "outputs": [],
   "source": [
    "sess = tf.Session()\n",
    "# create parameters\n",
    "w = tf.get_variablea(name='w', initializer=[[1.0],[1.0],[1.0]])\n",
    "\n",
    "#Create summaries for Tensorboard\n",
    "tf.summary.scalar('wmean', tf.reduce_mean(w))\n",
    "tf.summary.scalar('wsum', tf.reduce_sum(w))\n",
    "tf.summary.histogram('wmean', tf.reduce_mean(w))\n",
    "\n",
    "b = tf.get_variable(name='b', initializer=0.)\n",
    "tf.summary.scalar('intercept',b)\n",
    "\n",
    "# Create input paceholders\n",
    "x = tf.placeholder('float32',name='x')\n",
    "y = tf.placeholder('float32',name='y_true')\n",
    "\n",
    "#create linear model\n",
    "yhat = tf.reshape(tf.matmul(x,w) +b[-1,],name='yhat')\n"
   ]
  },
  {
   "cell_type": "code",
   "execution_count": 86,
   "metadata": {},
   "outputs": [],
   "source": [
    "import os\n",
    "\n",
    "mse = tf.reduce_mean(tf.square(y - yhat), name='nrmse')\n",
    "tf.summary.scalar('test_nrmse', test_nrmse)\n",
    "\n",
    "#merge all summaries and create a writer object that will write during tarining\n",
    "summaries = tf.summary.merge_all()\n",
    "writer = tf.summary.FileWriter(logdir='/tmp/lineaar_logs', graph=sess.graph)"
   ]
  },
  {
   "cell_type": "code",
   "execution_count": 76,
   "metadata": {},
   "outputs": [],
   "source": [
    "#init = tf.variables_initializer([w,b])\n",
    "#sess.run(init)"
   ]
  },
  {
   "cell_type": "code",
   "execution_count": null,
   "metadata": {},
   "outputs": [],
   "source": []
  },
  {
   "cell_type": "code",
   "execution_count": null,
   "metadata": {},
   "outputs": [],
   "source": []
  },
  {
   "cell_type": "code",
   "execution_count": 3,
   "metadata": {},
   "outputs": [
    {
     "ename": "NameError",
     "evalue": "name 'tf' is not defined",
     "output_type": "error",
     "traceback": [
      "\u001b[0;31m---------------------------------------------------------------------------\u001b[0m",
      "\u001b[0;31mNameError\u001b[0m                                 Traceback (most recent call last)",
      "\u001b[0;32m<ipython-input-3-65996cac02ec>\u001b[0m in \u001b[0;36m<module>\u001b[0;34m()\u001b[0m\n\u001b[0;32m----> 1\u001b[0;31m \u001b[0mtf\u001b[0m\u001b[0;34m.\u001b[0m\u001b[0m__version__\u001b[0m\u001b[0;34m\u001b[0m\u001b[0m\n\u001b[0m",
      "\u001b[0;31mNameError\u001b[0m: name 'tf' is not defined"
     ]
    }
   ],
   "source": [
    "tf.__version__"
   ]
  },
  {
   "cell_type": "code",
   "execution_count": 155,
   "metadata": {},
   "outputs": [],
   "source": [
    "Xtr.dump('Xtr.npy')\n",
    "Ytr.dump('ytr.npy')\n",
    "\n",
    "Xts.dump('Xts.npy')\n",
    "Yts.dump('yts.npy')"
   ]
  },
  {
   "cell_type": "code",
   "execution_count": 156,
   "metadata": {},
   "outputs": [],
   "source": [
    "Xtr = np.load('Xtr.npy')"
   ]
  },
  {
   "cell_type": "code",
   "execution_count": 157,
   "metadata": {},
   "outputs": [],
   "source": [
    "training = tf.data.Dataset.from_tensor_slices((Xtr,Ytr))"
   ]
  },
  {
   "cell_type": "code",
   "execution_count": 158,
   "metadata": {},
   "outputs": [],
   "source": [
    "training2 = tf.data.Dataset.from_tensor_slices({'x_tr':Xtr,'y_tr':Ytr})"
   ]
  },
  {
   "cell_type": "code",
   "execution_count": 159,
   "metadata": {},
   "outputs": [
    {
     "name": "stdout",
     "output_type": "stream",
     "text": [
      "{'x_tr': tf.float64, 'y_tr': tf.float64}\n",
      "{'x_tr': TensorShape([Dimension(3)]), 'y_tr': TensorShape([])}\n"
     ]
    }
   ],
   "source": [
    "print(training2.output_types)\n",
    "print(training2.output_shapes)\n",
    "#TFrecordDataset -  save tensorflow data format\n",
    "#TextLineDataset - Text based data formarts"
   ]
  },
  {
   "cell_type": "code",
   "execution_count": 160,
   "metadata": {},
   "outputs": [
    {
     "data": {
      "text/plain": [
       "131"
      ]
     },
     "execution_count": 160,
     "metadata": {},
     "output_type": "execute_result"
    }
   ],
   "source": [
    "len(Xtr)"
   ]
  },
  {
   "cell_type": "code",
   "execution_count": 161,
   "metadata": {},
   "outputs": [],
   "source": [
    "iterator = training2.make_one_shot_iterator()"
   ]
  },
  {
   "cell_type": "code",
   "execution_count": 162,
   "metadata": {},
   "outputs": [],
   "source": [
    "next_element = iterator.get_next()"
   ]
  },
  {
   "cell_type": "code",
   "execution_count": 108,
   "metadata": {},
   "outputs": [
    {
     "name": "stdout",
     "output_type": "stream",
     "text": [
      "{'x_tr': <tf.Tensor 'IteratorGetNext:0' shape=(3,) dtype=float64>, 'y_tr': <tf.Tensor 'IteratorGetNext:1' shape=() dtype=float64>}\n"
     ]
    }
   ],
   "source": [
    "print(next_element)"
   ]
  },
  {
   "cell_type": "code",
   "execution_count": 109,
   "metadata": {},
   "outputs": [
    {
     "name": "stdout",
     "output_type": "stream",
     "text": [
      "83.11805665581953\n",
      "83.68192862995116\n",
      "74.00510415670252\n",
      "87.12262813708116\n",
      "70.15662185608718\n",
      "71.30239365094707\n",
      "78.14640593104892\n",
      "77.41416754476376\n",
      "86.3203130480853\n",
      "78.2421978725092\n",
      "64.3781748341168\n",
      "73.22228847226867\n",
      "57.975308852434125\n",
      "76.80776095450283\n",
      "86.28962041001066\n",
      "86.33864249458371\n",
      "66.01336807467301\n",
      "80.2174559071178\n",
      "87.7051347357561\n",
      "71.85723123579757\n",
      "72.52587529126646\n",
      "70.67134779499088\n",
      "90.01047368886191\n",
      "65.48361396122735\n",
      "81.17520434280536\n",
      "80.61018152591535\n",
      "69.30576291815241\n",
      "66.92307516713493\n",
      "75.48078794375617\n",
      "79.24421568099005\n",
      "84.05396919881484\n",
      "78.38924977162276\n",
      "70.65621606006916\n",
      "83.89882572440139\n",
      "83.59259010532278\n",
      "95.06658054372743\n",
      "72.55370664456342\n",
      "66.48154615375867\n",
      "74.03217776245424\n",
      "82.62874482603796\n",
      "79.99804646603424\n",
      "86.70839945948151\n",
      "93.59994505167995\n",
      "68.53042192054775\n",
      "97.66456494367394\n",
      "89.31395132466986\n",
      "72.09832852792348\n",
      "73.30554001363193\n",
      "87.45046800490691\n",
      "74.63165156908707\n",
      "82.5467593683213\n",
      "61.423022267994156\n",
      "77.5662593791319\n",
      "73.12452063873589\n",
      "79.1690666284025\n",
      "83.37988247540264\n",
      "70.28453200957773\n",
      "81.9779169193103\n",
      "90.3338239029074\n",
      "73.9313055336047\n",
      "97.43949539088096\n",
      "91.28682055188727\n",
      "92.63161005756236\n",
      "75.82474027256836\n",
      "84.57827494045976\n",
      "78.55693706513077\n",
      "80.39205408516516\n",
      "75.19223829649158\n",
      "70.70647649780867\n",
      "74.44060439402551\n",
      "90.27604765704355\n",
      "79.0349151940526\n",
      "96.52527892878345\n",
      "91.52142667235604\n",
      "75.16787615887037\n",
      "82.21334391319604\n",
      "79.16172832512673\n",
      "83.08765549462886\n",
      "78.30946928797991\n",
      "70.30182376969712\n",
      "91.93670036416724\n",
      "71.01903486639833\n",
      "87.8247201726984\n",
      "82.48543101565136\n",
      "65.52192915025515\n",
      "71.94080216613007\n",
      "59.773714229469\n",
      "90.3131869238932\n",
      "71.50345693495252\n",
      "82.16410662736574\n",
      "88.60672713262694\n",
      "73.34002268707331\n",
      "75.28863855442768\n",
      "71.5506298192684\n",
      "74.00845942798722\n",
      "67.96957478264085\n",
      "85.01095431559145\n",
      "74.13691734910292\n",
      "75.54567176887511\n",
      "72.25944090365174\n",
      "78.70721605857807\n",
      "78.20264839355654\n",
      "83.03242060504262\n",
      "60.11014669668178\n",
      "69.49822896048794\n",
      "65.26489612167951\n",
      "88.6726447141015\n",
      "72.5983953150484\n",
      "72.78942130228116\n",
      "80.37305282123816\n",
      "77.04777557876254\n",
      "83.18701261823968\n",
      "74.8109242871295\n",
      "75.21236608355203\n",
      "90.40939855494577\n",
      "83.26918152237486\n",
      "78.42442850210884\n",
      "86.37467422242715\n",
      "68.06681906680058\n",
      "77.45887059953037\n",
      "79.4232720766783\n",
      "92.81307354540543\n",
      "79.44586514879097\n",
      "75.83030613678189\n",
      "71.59835790002496\n",
      "93.73546733734558\n",
      "72.78010383969689\n",
      "77.45467501759477\n",
      "81.63377397376406\n",
      "81.03642166840096\n",
      "83.09938940016436\n"
     ]
    }
   ],
   "source": [
    "for i in range(131):\n",
    "    value = sess.run(next_element)\n",
    "    print(value['y_tr'])"
   ]
  },
  {
   "cell_type": "code",
   "execution_count": 113,
   "metadata": {},
   "outputs": [
    {
     "name": "stdout",
     "output_type": "stream",
     "text": [
      "83.11805665581953\n",
      "83.68192862995116\n",
      "74.00510415670252\n",
      "87.12262813708116\n",
      "70.15662185608718\n",
      "71.30239365094707\n",
      "78.14640593104892\n",
      "77.41416754476376\n",
      "86.3203130480853\n",
      "78.2421978725092\n",
      "64.3781748341168\n",
      "73.22228847226867\n",
      "57.975308852434125\n",
      "76.80776095450283\n",
      "86.28962041001066\n",
      "86.33864249458371\n",
      "66.01336807467301\n",
      "80.2174559071178\n",
      "87.7051347357561\n",
      "71.85723123579757\n",
      "72.52587529126646\n",
      "70.67134779499088\n",
      "90.01047368886191\n",
      "65.48361396122735\n",
      "81.17520434280536\n",
      "80.61018152591535\n",
      "69.30576291815241\n",
      "66.92307516713493\n",
      "75.48078794375617\n",
      "79.24421568099005\n",
      "84.05396919881484\n",
      "78.38924977162276\n",
      "70.65621606006916\n",
      "83.89882572440139\n",
      "83.59259010532278\n",
      "95.06658054372743\n",
      "72.55370664456342\n",
      "66.48154615375867\n",
      "74.03217776245424\n",
      "82.62874482603796\n",
      "79.99804646603424\n",
      "86.70839945948151\n",
      "93.59994505167995\n",
      "68.53042192054775\n",
      "97.66456494367394\n",
      "89.31395132466986\n",
      "72.09832852792348\n",
      "73.30554001363193\n",
      "87.45046800490691\n",
      "74.63165156908707\n",
      "82.5467593683213\n",
      "61.423022267994156\n",
      "77.5662593791319\n",
      "73.12452063873589\n",
      "79.1690666284025\n",
      "83.37988247540264\n",
      "70.28453200957773\n",
      "81.9779169193103\n",
      "90.3338239029074\n",
      "73.9313055336047\n",
      "97.43949539088096\n",
      "91.28682055188727\n",
      "92.63161005756236\n",
      "75.82474027256836\n",
      "84.57827494045976\n",
      "78.55693706513077\n",
      "80.39205408516516\n",
      "75.19223829649158\n",
      "70.70647649780867\n",
      "74.44060439402551\n",
      "90.27604765704355\n",
      "79.0349151940526\n",
      "96.52527892878345\n",
      "91.52142667235604\n",
      "75.16787615887037\n",
      "82.21334391319604\n",
      "79.16172832512673\n",
      "83.08765549462886\n",
      "78.30946928797991\n",
      "70.30182376969712\n",
      "91.93670036416724\n",
      "71.01903486639833\n",
      "87.8247201726984\n",
      "82.48543101565136\n",
      "65.52192915025515\n",
      "71.94080216613007\n",
      "59.773714229469\n",
      "90.3131869238932\n",
      "71.50345693495252\n",
      "82.16410662736574\n",
      "88.60672713262694\n",
      "73.34002268707331\n",
      "75.28863855442768\n",
      "71.5506298192684\n",
      "74.00845942798722\n",
      "67.96957478264085\n",
      "85.01095431559145\n",
      "74.13691734910292\n",
      "75.54567176887511\n",
      "72.25944090365174\n",
      "78.70721605857807\n",
      "78.20264839355654\n",
      "83.03242060504262\n",
      "60.11014669668178\n",
      "69.49822896048794\n",
      "65.26489612167951\n",
      "88.6726447141015\n",
      "72.5983953150484\n",
      "72.78942130228116\n",
      "80.37305282123816\n",
      "77.04777557876254\n",
      "83.18701261823968\n",
      "74.8109242871295\n",
      "75.21236608355203\n",
      "90.40939855494577\n",
      "83.26918152237486\n",
      "78.42442850210884\n",
      "86.37467422242715\n",
      "68.06681906680058\n",
      "77.45887059953037\n",
      "79.4232720766783\n",
      "92.81307354540543\n",
      "79.44586514879097\n",
      "75.83030613678189\n",
      "71.59835790002496\n",
      "93.73546733734558\n",
      "72.78010383969689\n",
      "77.45467501759477\n",
      "81.63377397376406\n",
      "81.03642166840096\n",
      "83.09938940016436\n",
      "NO MORE DATA\n"
     ]
    }
   ],
   "source": [
    "iterator = training2.make_one_shot_iterator()\n",
    "next_element = iterator.get_next()\n",
    "\n",
    "for i in range(132):\n",
    "    try:\n",
    "        value = sess.run(next_element)\n",
    "        print(value['y_tr'])\n",
    "    except tf.errors.OutOfRangeError as e:\n",
    "        print('NO MORE DATA')"
   ]
  },
  {
   "cell_type": "code",
   "execution_count": 114,
   "metadata": {},
   "outputs": [],
   "source": [
    "df.to_csv('data.csv', index=False) #Create CSV from dataframe from previous random data"
   ]
  },
  {
   "cell_type": "code",
   "execution_count": 34,
   "metadata": {},
   "outputs": [],
   "source": [
    "#define transformation\n",
    "#we will add noise to X\n",
    "\n",
    "def input_fn(csv_file, feature_name=['x1','x2','x3'], noise=True):\n",
    "    ''' Returns Features and labels'''\n",
    "    def decode_csv_add_noise(line,noise=True): #line is handled by map \n",
    "        ''' load csv (one line at a time) and add noise to it'''\n",
    "        parsed_line = tf.decode_csv(line,[[0.],[0.],[0.],[0.]]) #called from map function\n",
    "        \n",
    "        '''snag -- stack list into a Tensor'''\n",
    "        label =tf.stack(parsed_line[-1:]) #Last element label\n",
    "        del parsed_line[-1]# Delete last element\n",
    "        \n",
    "        '''snag -- stack list into a Tensor'''\n",
    "        features = tf.stack(parsed_line) #Everythin (but last element) are the features\n",
    "        \n",
    "        # add normal random noise to features\n",
    "        if noise:\n",
    "            features = tf.add(features, tf.random_normal(\n",
    "                                shape=tf.shape(features),\n",
    "                                mean =0.,\n",
    "                                stddev=0.1\n",
    "                                ))\n",
    "        \n",
    "        return features, label\n",
    "    \n",
    "    '''If snag -- stack list into a Tensor -- is not fixed, map tries to get_shape on a list'''\n",
    "    dataset = (tf.data.TextLineDataset(csv_file)\n",
    "            .skip(1)\n",
    "            .map(decode_csv_add_noise)) \n",
    "\n",
    "    \n",
    "    iterator = dataset.make_one_shot_iterator() \n",
    "    features, label = iterator.get_next() #for each line\n",
    "    \n",
    "    return features, label"
   ]
  },
  {
   "cell_type": "code",
   "execution_count": 35,
   "metadata": {},
   "outputs": [
    {
     "name": "stdout",
     "output_type": "stream",
     "text": [
      "[102.05716     3.1646895  62.3914   ] [23.]\n"
     ]
    }
   ],
   "source": [
    "next_ = input_fn('data.csv',noise=False)\n",
    "\n",
    "with tf.Session() as s:\n",
    "    X, y = s.run(next_)\n",
    "    print(X,y)\n",
    "\n"
   ]
  },
  {
   "cell_type": "code",
   "execution_count": 33,
   "metadata": {},
   "outputs": [
    {
     "name": "stdout",
     "output_type": "stream",
     "text": [
      "[102.220345    3.1485512  62.465824 ] [23.]\n"
     ]
    }
   ],
   "source": []
  },
  {
   "cell_type": "code",
   "execution_count": 44,
   "metadata": {},
   "outputs": [],
   "source": [
    "#batching\n",
    "\n",
    "def input_fn(csv_file, feature_name=['x1','x2','x3'] , batch_size=16, noise=True):\n",
    "    ''' Returns Features and labels'''\n",
    "    def decode_csv_add_noise(line,noise=True): #line is handled by map \n",
    "        ''' load csv (one line at a time) and add noise to it'''\n",
    "        parsed_line = tf.decode_csv(line,[[0.],[0.],[0.],[0.]]) #called from map function\n",
    "        \n",
    "    \n",
    "        label =tf.stack(parsed_line[-1:]) #Last element label\n",
    "        del parsed_line[-1]# Delete last element\n",
    "        \n",
    "        features = tf.stack(parsed_line) #Everythin (but last element) are the features\n",
    "        \n",
    "        # add normal random noise to features\n",
    "        if noise:\n",
    "            features = tf.add(features, tf.random_normal(\n",
    "                                shape=tf.shape(features),\n",
    "                                mean =0.,\n",
    "                                stddev=0.1\n",
    "                                ))\n",
    "        \n",
    "        return features, label\n",
    "\n",
    "    dataset = (tf.data.TextLineDataset(csv_file)\n",
    "            .skip(1)\n",
    "            .map(decode_csv_add_noise)) \n",
    "    \n",
    "    dataset = dataset.batch(batch_size)\n",
    "    \n",
    "    iterator = dataset.make_one_shot_iterator() \n",
    "    batch_features, batch_labels = iterator.get_next() #for each line\n",
    "    \n",
    "    return batch_features, batch_labels"
   ]
  },
  {
   "cell_type": "code",
   "execution_count": 46,
   "metadata": {},
   "outputs": [
    {
     "name": "stdout",
     "output_type": "stream",
     "text": [
      "batch_size 10\n",
      "[[102.02237     3.0629334  62.361454 ]\n",
      " [104.9102     15.355994   83.262886 ]\n",
      " [ 82.86442     2.378342   60.81271  ]\n",
      " [103.13851     9.66956    80.96908  ]\n",
      " [ 97.05668    11.066324   83.68882  ]\n",
      " [106.051994    8.295692   78.0869   ]\n",
      " [ 86.895546    7.1978736  74.120476 ]\n",
      " [131.99973    13.047864   87.145134 ]\n",
      " [104.93052     3.2442842  70.143135 ]\n",
      " [ 93.99266    11.868302   71.44152  ]]\n",
      "\n",
      "[[23.]\n",
      " [25.]\n",
      " [29.]\n",
      " [33.]\n",
      " [36.]\n",
      " [31.]\n",
      " [35.]\n",
      " [24.]\n",
      " [31.]\n",
      " [21.]]\n"
     ]
    }
   ],
   "source": [
    "next_ = input_fn('data.csv', batch_size=10, noise=False)\n",
    "\n",
    "with tf.Session() as s:\n",
    "    batch = s.run(next_)\n",
    "    print(batch[0]) #x\n",
    "    print()\n",
    "    print(batch[1]) #y"
   ]
  },
  {
   "cell_type": "code",
   "execution_count": null,
   "metadata": {},
   "outputs": [],
   "source": []
  }
 ],
 "metadata": {
  "kernelspec": {
   "display_name": "conda_tensorflow_p36",
   "language": "python",
   "name": "conda_tensorflow_p36"
  },
  "language_info": {
   "codemirror_mode": {
    "name": "ipython",
    "version": 3
   },
   "file_extension": ".py",
   "mimetype": "text/x-python",
   "name": "python",
   "nbconvert_exporter": "python",
   "pygments_lexer": "ipython3",
   "version": "3.6.4"
  }
 },
 "nbformat": 4,
 "nbformat_minor": 2
}
